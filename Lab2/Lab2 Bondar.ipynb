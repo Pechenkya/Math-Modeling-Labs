{
 "cells": [
  {
   "cell_type": "code",
   "execution_count": 1,
   "metadata": {},
   "outputs": [],
   "source": [
    "import os\n",
    "\n",
    "import numpy as np"
   ]
  },
  {
   "cell_type": "markdown",
   "metadata": {},
   "source": [
    "### Lab 2: Simplex Method\n",
    "##### Bondar Petro (Variant 2)\n",
    "   \n",
    "**Function:** $F = 3x_1 - 2x_2 \\rightarrow min$\n",
    "\n",
    "**Equasions:**\n",
    "\n",
    "$\n",
    "\\begin{alignedat}{3}\n",
    "     2&x_1 \\;\\;+\\; &x_2 \\;\\leq\\; &14\\\\\n",
    "    -3&x_1 \\;+\\; 2&x_2 \\;\\leq\\; &9\\\\\n",
    "     3&x_1 \\;+\\; 4&x_2 \\;\\leq\\; &27\\\\\n",
    "     x_{1,2} \\geq 0\n",
    "\\end{alignedat}\n",
    "$"
   ]
  },
  {
   "cell_type": "markdown",
   "metadata": {},
   "source": [
    "Let's reduce inequalities to equalities with aux variables:  \n",
    "**Equasions:**   \n",
    "$\n",
    "\\begin{alignedat}{7}\n",
    "     2&x_1 \\;\\;+\\;  & x_2 \\;+\\;      &x_3              &               &     &\\;=\\; &14\\\\\n",
    "    -3&x_1 \\;+\\;  2 & x_2 \\;\\;\\;\\;\\; &\\;\\;\\;\\;\\;+\\;    &x_4\\;\\;\\;\\;\\;  &     &\\;=\\; &9\\\\\n",
    "     3&x_1 \\;+\\;  4 & x_2 \\;\\;\\;\\;\\; &                 &\\;\\;\\;\\;\\;+\\;  &x_5  &\\;=\\; &27\\\\\n",
    "     x_i \\geq 0,\\; \\forall i = \\overline{1,5}\n",
    "\\end{alignedat}\n",
    "$\n",
    "\n",
    "As result we get canonical form."
   ]
  },
  {
   "cell_type": "markdown",
   "metadata": {},
   "source": [
    "#### Create and print table"
   ]
  },
  {
   "cell_type": "code",
   "execution_count": 2,
   "metadata": {},
   "outputs": [],
   "source": [
    "# Method to create table for algorithm\n",
    "def create_table(c, A, b, basis_idx):\n",
    "    up_t = [x + [e] + [c[bas]] for x, e, bas in zip(A, b, basis_idx)]   # Upper rows are for eq coef and basis vector\n",
    "    low_r = c + [0, 0]                                                  # Last row is for funct coef\n",
    "    deltas = [0 for i in range(0, len(low_r))]\n",
    "    return up_t + [low_r] + [deltas]\n",
    "\n",
    "def print_t(t):\n",
    "    for r in t:\n",
    "        print(r)\n",
    "    print()"
   ]
  },
  {
   "cell_type": "markdown",
   "metadata": {},
   "source": [
    "#### Calculate deltas for columns"
   ]
  },
  {
   "cell_type": "code",
   "execution_count": 3,
   "metadata": {},
   "outputs": [],
   "source": [
    "# Calculate deltas\n",
    "def calc_deltas(table):\n",
    "    for j in range(0, len(table) - 2):\n",
    "        table[-1][-2] += table[j][-2] * table[j][-1]\n",
    "\n",
    "    # (bas, Ai) - Ci\n",
    "    for i in range(0, len(table[-1]) - 2):\n",
    "        for j in range(0, len(table) - 2):\n",
    "            table[-1][i] += table[j][i] * table[j][-1]\n",
    "        table[-1][i] -= table[-2][i]\n",
    "    "
   ]
  },
  {
   "cell_type": "markdown",
   "metadata": {},
   "source": [
    "#### Optimization process"
   ]
  },
  {
   "cell_type": "code",
   "execution_count": 4,
   "metadata": {},
   "outputs": [],
   "source": [
    "# Check delta row\n",
    "def could_be_optimized_to_min(table):\n",
    "    for d in table[-1]:\n",
    "        if d > 0:\n",
    "            return True\n",
    "    \n",
    "    return False"
   ]
  },
  {
   "cell_type": "code",
   "execution_count": 5,
   "metadata": {},
   "outputs": [],
   "source": [
    "# Find element to move to basis\n",
    "def find_pivot_min(table):\n",
    "    deltas = table[-1]\n",
    "    d_plus_idx = 1000\n",
    "    for i in range(0, len(deltas) - 2):\n",
    "        if deltas[i] > 0:\n",
    "            d_plus_idx = i\n",
    "            break\n",
    "    \n",
    "    div = [table[i][-2] / table[i][d_plus_idx] for i in range(0, len(table) - 2)]\n",
    "    for i in range(0, len(div)):\n",
    "        if(div[i] <= 0):\n",
    "            div[i] = np.inf\n",
    "    \n",
    "    row_idx = div.index(min(div))\n",
    "\n",
    "    return row_idx, d_plus_idx"
   ]
  },
  {
   "cell_type": "code",
   "execution_count": 6,
   "metadata": {},
   "outputs": [],
   "source": [
    "# Recalculate table to change basis\n",
    "def table_recalc(table, pivot):\n",
    "    pivot_r, pivot_c = pivot\n",
    "    new_table = [r.copy() for r in table]\n",
    "    new_table[-1] = [0 for i in range(0, len(table[0]))]\n",
    "\n",
    "    # Redefine basis\n",
    "    new_table[pivot_r][-1] = table[-2][pivot_c]\n",
    "        \n",
    "    # X_new = X_old - (A*B)/V\n",
    "    for r in range(0, len(table) - 2):\n",
    "        for c in range(0, len(table[r]) - 1):\n",
    "            new_table[r][c] = table[r][c] - (table[r][pivot_c] * table[pivot_r][c]) / table[pivot_r][pivot_c]\n",
    "\n",
    "    # Redefine row for new basis\n",
    "    for i in range(0, len(table[pivot_c]) - 1):\n",
    "        new_table[pivot_r][i] = table[pivot_r][i] / table[pivot_r][pivot_c]\n",
    "\n",
    "    return new_table"
   ]
  },
  {
   "cell_type": "markdown",
   "metadata": {},
   "source": [
    "#### Receving solution after simplex method"
   ]
  },
  {
   "cell_type": "code",
   "execution_count": 7,
   "metadata": {},
   "outputs": [],
   "source": [
    "def is_basis(col):\n",
    "    return (len([i for i in col[:-2] if i == 0]) == len(col) - 3) and (sum(col[:-2]) == 1)\n",
    "\n",
    "# Recieve var values for optimized solution\n",
    "def get_solution(table):\n",
    "    cols = np.array(table).T\n",
    "    solutions = []\n",
    "    for c in cols[:-2]:\n",
    "        if(is_basis(c)):\n",
    "            one_index = c.tolist().index(1)\n",
    "            solutions.append(cols[-2][one_index])\n",
    "        else:\n",
    "            solutions.append(0)\n",
    "\n",
    "    return solutions"
   ]
  },
  {
   "cell_type": "markdown",
   "metadata": {},
   "source": [
    "#### Main functions"
   ]
  },
  {
   "cell_type": "code",
   "execution_count": 8,
   "metadata": {},
   "outputs": [],
   "source": [
    "def simplex_calc_to_min(c, A, b, b_idx):\n",
    "    table = create_table(c, A, b, b_idx)\n",
    "    calc_deltas(table)\n",
    "    print('Table created from input data: ')\n",
    "    print_t(table)\n",
    "\n",
    "    i = 0\n",
    "    while(could_be_optimized_to_min(table)):\n",
    "        # Receveing pivot element idxes and revalculate other values to change basis\n",
    "        table = table_recalc(table, find_pivot_min(table))  \n",
    "        calc_deltas(table)\n",
    "        i = i + 1\n",
    "        print('Table after step', i)\n",
    "        print_t(table)\n",
    "\n",
    "    return get_solution(table)\n"
   ]
  },
  {
   "cell_type": "code",
   "execution_count": 9,
   "metadata": {},
   "outputs": [],
   "source": [
    "# To get min/max func value\n",
    "def calc_function(coefs, var_values):\n",
    "    return np.dot(coefs, var_values)"
   ]
  },
  {
   "cell_type": "markdown",
   "metadata": {},
   "source": [
    "#### User input and data preparation"
   ]
  },
  {
   "cell_type": "code",
   "execution_count": 10,
   "metadata": {},
   "outputs": [],
   "source": [
    "# Setting up condition matrix and func vector\n",
    "c = [3, -2, 0, 0, 0]    # F = 3x_1 - 2x_2\n",
    "A = [\n",
    "    [ 2, 1, 1, 0, 0],\n",
    "    [-3, 2, 0, 1, 0],\n",
    "    [ 3, 4, 0, 0, 1]\n",
    "]                       # Condition matrix\n",
    "b = [14, 9, 27]\n",
    "basis_idx = [2, 3, 4]   # Select basis vector (x_3, x_4, x_5)"
   ]
  },
  {
   "cell_type": "code",
   "execution_count": 11,
   "metadata": {},
   "outputs": [
    {
     "name": "stdout",
     "output_type": "stream",
     "text": [
      "Function vector: c = [3, -2, 0, 0, 0]\n",
      "Condition vector b = [14, 9, 27]\n",
      "Condition matrix A:\n",
      "[2, 1, 1, 0, 0]\n",
      "[-3, 2, 0, 1, 0]\n",
      "[3, 4, 0, 0, 1]\n",
      "\n",
      "\n",
      "Finding minimum:\n",
      "Table created from input data: \n",
      "[2, 1, 1, 0, 0, 14, 0]\n",
      "[-3, 2, 0, 1, 0, 9, 0]\n",
      "[3, 4, 0, 0, 1, 27, 0]\n",
      "[3, -2, 0, 0, 0, 0, 0]\n",
      "[-3, 2, 0, 0, 0, 0, 0]\n",
      "\n",
      "Table after step 1\n",
      "[3.5, 0.0, 1.0, -0.5, 0.0, 9.5, 0]\n",
      "[-1.5, 1.0, 0.0, 0.5, 0.0, 4.5, -2]\n",
      "[9.0, 0.0, 0.0, -2.0, 1.0, 9.0, 0]\n",
      "[3, -2, 0, 0, 0, 0, 0]\n",
      "[0.0, 0.0, 0.0, -1.0, 0.0, -9.0, 0]\n",
      "\n",
      "X = [0, 4.5, 9.5, 0, 9.0]\n",
      "F(X) = -9.0\n"
     ]
    }
   ],
   "source": [
    "print('Function vector: c =', c)\n",
    "print('Condition vector b =', b)\n",
    "print('Condition matrix A:')\n",
    "print_t(A)\n",
    "print()\n",
    "\n",
    "# Call simplex method with current input\n",
    "print('Finding minimum:')\n",
    "solution = simplex_calc_to_min(c, A, b, basis_idx)\n",
    "print('X =', solution)\n",
    "print('F(X) =', calc_function(c, solution))"
   ]
  },
  {
   "cell_type": "markdown",
   "metadata": {},
   "source": [
    "#### Example for maximum (Variant 1)"
   ]
  },
  {
   "cell_type": "code",
   "execution_count": 12,
   "metadata": {},
   "outputs": [],
   "source": [
    "# Setting up condition matrix and func vector\n",
    "c = [2, -1, 3, -2, 1]\n",
    "A = [\n",
    "    [-1, 1, 1, 0, 0],\n",
    "    [ 1,-1, 0, 1, 0],\n",
    "    [ 1, 1, 0, 0, 1]\n",
    "]                       # Condition matrix\n",
    "b = [1, 1, 2]\n",
    "basis_idx = [2, 3, 4]   # Select basis vector (x_3, x_4, x_5)"
   ]
  },
  {
   "cell_type": "code",
   "execution_count": 13,
   "metadata": {},
   "outputs": [
    {
     "name": "stdout",
     "output_type": "stream",
     "text": [
      "Function vector: c = [2, -1, 3, -2, 1]\n",
      "Condition vector b = [1, 1, 2]\n",
      "Condition matrix A:\n",
      "[-1, 1, 1, 0, 0]\n",
      "[1, -1, 0, 1, 0]\n",
      "[1, 1, 0, 0, 1]\n",
      "\n",
      "\n",
      "Finding maximum:\n",
      "Table created from input data: \n",
      "[-1, 1, 1, 0, 0, 1, -3]\n",
      "[1, -1, 0, 1, 0, 1, 2]\n",
      "[1, 1, 0, 0, 1, 2, -1]\n",
      "[-2, 1, -3, 2, -1, 0, 0]\n",
      "[6, -7, 0, 0, 0, -3, 0]\n",
      "\n",
      "Table after step 1\n",
      "[0.0, 0.0, 1.0, 1.0, 0.0, 2.0, -3]\n",
      "[1.0, -1.0, 0.0, 1.0, 0.0, 1.0, -2]\n",
      "[0.0, 2.0, 0.0, -1.0, 1.0, 1.0, -1]\n",
      "[-2, 1, -3, 2, -1, 0, 0]\n",
      "[0.0, -1.0, 0.0, -6.0, 0.0, -9.0, 0]\n",
      "\n",
      "X = [1.0, 0, 2.0, 0, 1.0]\n",
      "F(X) = 9.0\n"
     ]
    }
   ],
   "source": [
    "print('Function vector: c =', c)\n",
    "print('Condition vector b =', b)\n",
    "print('Condition matrix A:')\n",
    "print_t(A)\n",
    "print()\n",
    "\n",
    "# Call simplex method with current input\n",
    "print('Finding maximum:')\n",
    "solution = simplex_calc_to_min([-x for x in c], A, b, basis_idx)\n",
    "print('X =', solution)\n",
    "print('F(X) =', calc_function(c, solution))"
   ]
  }
 ],
 "metadata": {
  "kernelspec": {
   "display_name": "Python 3.9.13 64-bit (microsoft store)",
   "language": "python",
   "name": "python3"
  },
  "language_info": {
   "codemirror_mode": {
    "name": "ipython",
    "version": 3
   },
   "file_extension": ".py",
   "mimetype": "text/x-python",
   "name": "python",
   "nbconvert_exporter": "python",
   "pygments_lexer": "ipython3",
   "version": "3.9.13"
  },
  "orig_nbformat": 4,
  "vscode": {
   "interpreter": {
    "hash": "c597eb52bb95704ba5851168fb5da51aa208d0989c92933feebf3cdec4c22e4e"
   }
  }
 },
 "nbformat": 4,
 "nbformat_minor": 2
}
